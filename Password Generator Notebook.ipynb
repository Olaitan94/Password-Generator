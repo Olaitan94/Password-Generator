{
 "cells": [
  {
   "cell_type": "markdown",
   "metadata": {},
   "source": [
    "### This code is to generate a password, save passwords and usernames for different apps and websites and print out this info when necessary."
   ]
  },
  {
   "cell_type": "code",
   "execution_count": 7,
   "metadata": {},
   "outputs": [],
   "source": [
    "#import the modules that will be used in this program."
   ]
  },
  {
   "cell_type": "code",
   "execution_count": 32,
   "metadata": {},
   "outputs": [],
   "source": [
    "from string import punctuation\n",
    "from random import randint\n",
    "from random import choice"
   ]
  },
  {
   "cell_type": "markdown",
   "metadata": {},
   "source": [
    "##### So I need a list of words for which the program will select from. \n",
    "##### I would have loved to have all the list of words (nouns and adjectives). I saw that this can be done using the \"NLTK\"  module but I dont know how to do that yet.\n",
    "##### I created a short string of some adjectives.\n",
    "#########I had to use the '\\' after each word when I wanted to start on another line in the strings below because I didnt want the program to see another line a s a new line character."
   ]
  },
  {
   "cell_type": "code",
   "execution_count": 33,
   "metadata": {},
   "outputs": [],
   "source": [
    "strings = '''strange terrible chainlike convivial fan-leafed affordable popular fabulous irritating shiny comforted wonderful skillful average exceptionable arrogant\\\n",
    " lazy biting wasteful respectful gorgeous vicious ferocious loving cheery orange illogical stoic vast comfortless great furry crease-resistant\\\n",
    " reclusive artificial persistent slight closed-in crushing scary certifiable lithe hard content faint pretend poor famous impressionable\\\n",
    " fervent small creative vivid hope helpful bloody heated up joyous painstaking fragile quickest self-assured sensitive slippery unassuming\\\n",
    " emotional passive center swift volcanic reliable squeamish elated resonant scrawny deviant striped diplomatic sneaky misty believing\\\n",
    " easy breeze'''"
   ]
  },
  {
   "cell_type": "markdown",
   "metadata": {},
   "source": [
    "####### I will use the split(' ') function to put each adjective in strings into a list."
   ]
  },
  {
   "cell_type": "code",
   "execution_count": 34,
   "metadata": {},
   "outputs": [],
   "source": [
    "adjectives = strings.split(' ')"
   ]
  },
  {
   "cell_type": "markdown",
   "metadata": {},
   "source": [
    "####### I decided to capitalize each word in 'adjectives' using the capitalize() function. "
   ]
  },
  {
   "cell_type": "code",
   "execution_count": 40,
   "metadata": {},
   "outputs": [],
   "source": [
    "newadj = [word.capitalize() for word in adjectives]\n",
    "main = choice(newadj)\n",
    "number = randint (10,1000)\n",
    "char = choice(punctuation)\n",
    "\n",
    "def passwordgen():\n",
    "    ''' Use this function when you want to generate a password without saving it.'''\n",
    "    \n",
    "    print('Hello Olaitan, welcome to your password picker!')\n",
    "    \n",
    "\n",
    "    password = main + str(number) + char\n",
    "    print(f' Your password is {password}')\n",
    "    return password\n",
    "\n",
    "def passwordsave():\n",
    "    '''Use this function if you want to create and store password and username for an app or website.'''\n",
    "    \n",
    "    print('Welcome to your password saver.')\n",
    "    application = input('Enter the name of the application,website or name which the password is for:>> ')\n",
    "    username = input('Enter your username:>>')\n",
    "    passwords = passwordgen()\n",
    "    new = input('Would you like to generate another passwrd for this app?\\\n",
    "\\nEnter \"y\" or \"n\":')\n",
    "    while new == 'y':\n",
    "        passwords = passwordgen()    #there, the password gen function is called.\n",
    "        new = input('Would you like to generate another passwrd for this app?\\\n",
    "\\nEnter \"y\" or \"n\":')\n",
    "    try:\n",
    "        with open('passwordsaver.txt','a') as saver:\n",
    "            saver.write(f'{application}>> Username: {username}; Password: {passwords}\\n')\n",
    "    except:\n",
    "        with open('passwordsaver.txt','w') as saver:\n",
    "            saver.write(f'{application}>> Username: {username}; Password: {passwords}\\n')\n",
    "    print(f'Your password: {passwords} and username: {username} for {application} has been saved.')\n",
    "    \n",
    "def passwordget():\n",
    "    '''Use this function to retrieve password and username previusly saved.'''\n",
    "    appname = input('Enter the name of the application or website:>>')\n",
    "    info = []\n",
    "    with open('passwordsaver.txt','r') as save:\n",
    "        for line in save.readlines():\n",
    "            if line.startswith(appname.capitalize()):\n",
    "                info.append(line)\n",
    "        if len(info) == 0:\n",
    "            print('Application not found in database.')\n",
    "        else:\n",
    "            for data in info:\n",
    "                print(data)"
   ]
  },
  {
   "cell_type": "code",
   "execution_count": null,
   "metadata": {},
   "outputs": [],
   "source": []
  },
  {
   "cell_type": "markdown",
   "metadata": {},
   "source": [
    "#####Improvements:\n",
    "1.I need to store each password generated such that the program does not generate the same password twice. So maybe I will have a list containing all previously generated passwords, such that if the password is generated again, the program will be run again.\n",
    "2. I need to make this into a GUI\n",
    "3. Maybe calculate strength of the password.\n",
    "4. put a password on the text file( where the passwords) are stored. Such that yu have to enter the password before accessing the file.\n",
    "5. Modify program such that the user can manually enter a password instead of generating one and then save it.\n"
   ]
  }
 ],
 "metadata": {
  "kernelspec": {
   "display_name": "Python 3",
   "language": "python",
   "name": "python3"
  },
  "language_info": {
   "codemirror_mode": {
    "name": "ipython",
    "version": 3
   },
   "file_extension": ".py",
   "mimetype": "text/x-python",
   "name": "python",
   "nbconvert_exporter": "python",
   "pygments_lexer": "ipython3",
   "version": "3.7.6"
  }
 },
 "nbformat": 4,
 "nbformat_minor": 4
}
